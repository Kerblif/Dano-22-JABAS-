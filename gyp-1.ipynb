{
 "cells": [
  {
   "cell_type": "code",
   "execution_count": null,
   "id": "47631568",
   "metadata": {},
   "outputs": [],
   "source": [
    "import pandas as pd\n",
    "import matplotlib.pyplot as plt\n",
    "import numpy as np\n",
    "\n",
    "\n",
    "import scipy.stats as stats\n",
    "from scipy.stats import chisquare\n",
    "from scipy.stats import chi2_contingency\n",
    "\n",
    "changed=pd.read_csv('1.csv', low_memory=False) #вышли на пенсию\n",
    "work=pd.read_csv('Health-onwr.csv', low_memory=False) #работающие"
   ]
  },
  {
   "cell_type": "code",
   "execution_count": null,
   "id": "16aa2d42",
   "metadata": {},
   "outputs": [],
   "source": [
    "changed=changed[['hhidpn','ragey_b','rpsyche','index_wave','retired','rmstat','ragender']]\n",
    "changed = changed.loc[changed.retired==100]\n",
    "changed"
   ]
  },
  {
   "cell_type": "code",
   "execution_count": null,
   "id": "e44aebb4",
   "metadata": {},
   "outputs": [],
   "source": [
    "a=[62,63,64,65,66]\n",
    "ret=changed.loc[changed.ragey_b.isin(a)]\n",
    "wor=work.loc[work.ragey_b.isin(a)]\n",
    "\n",
    "t11 = ret['rpsyche'][ret['rpsyche']==1].count()\n",
    "t12 = ret['rpsyche'][ret['rpsyche']==0].count()\n",
    "t21 = wor['rpsyche'][wor['rpsyche']=='1'].count()\n",
    "t22=wor['rpsyche'][wor['rpsyche']=='0'].count()\n",
    "table= pd.DataFrame({\n",
    "    'retired':[t11,t12,t11 + t12],\n",
    "    'working':[t21,t22,t21+t22]\n",
    "},index=['yes','no','total'])\n",
    "table1=table\n",
    "for ind, row in table.iterrows():\n",
    "    table1['retired'][ind]= f\"{table['retired'][ind]} ({table['retired'][ind]/table['retired'].loc['total']:.2%})\" \n",
    "    table1['working'][ind]= f\"{table['working'][ind]} ({table['working'][ind]/table['working'].loc['total']:.2%})\"\n",
    "table1"
   ]
  },
  {
   "cell_type": "code",
   "execution_count": null,
   "id": "b828b61c",
   "metadata": {},
   "outputs": [],
   "source": [
    "chi2_contingency(table)[1] #p-value для 63-67 вкл"
   ]
  },
  {
   "cell_type": "code",
   "execution_count": null,
   "id": "a3304a23",
   "metadata": {},
   "outputs": [],
   "source": [
    "b=[67,68,69,70,71]\n",
    "ret=changed.loc[changed.ragey_b.isin(b)]\n",
    "wor=work.loc[work.ragey_b.isin(b)]\n",
    "\n",
    "t11 = ret['rpsyche'][ret['rpsyche']==1].count()\n",
    "t12 = ret['rpsyche'][ret['rpsyche']==0].count()\n",
    "t21 = wor['rpsyche'][wor['rpsyche']=='1'].count()\n",
    "t22=wor['rpsyche'][wor['rpsyche']=='0'].count()\n",
    "table= pd.DataFrame({\n",
    "    'retired':[t11,t12,t11 + t12],\n",
    "    'working':[t21,t22,t21+t22]\n",
    "},index=['yes','no','total'])\n",
    "table1=table\n",
    "for ind, row in table.iterrows():\n",
    "    table1['retired'][ind]= f\"{table['retired'][ind]} ({table['retired'][ind]/table['retired'].loc['total']:.2%})\" \n",
    "    table1['working'][ind]= f\"{table['working'][ind]} ({table['working'][ind]/table['working'].loc['total']:.2%})\"\n",
    "table1"
   ]
  },
  {
   "cell_type": "code",
   "execution_count": null,
   "id": "c109c9ac",
   "metadata": {},
   "outputs": [],
   "source": [
    "chi2_contingency(table)[1] #p-value для 67-71 вкл"
   ]
  },
  {
   "cell_type": "code",
   "execution_count": null,
   "id": "dbf12a09",
   "metadata": {},
   "outputs": [],
   "source": [
    "c=[72,73,74,75,76]\n",
    "ret=changed.loc[changed.ragey_b.isin(c)]\n",
    "wor=work.loc[work.ragey_b.isin(c)]\n",
    "\n",
    "t11 = ret['rpsyche'][ret['rpsyche']==1].count()\n",
    "t12 = ret['rpsyche'][ret['rpsyche']==0].count()\n",
    "t21 = wor['rpsyche'][wor['rpsyche']=='1'].count()\n",
    "t22=wor['rpsyche'][wor['rpsyche']=='0'].count()\n",
    "table= pd.DataFrame({\n",
    "    'retired':[t11,t12,t11+t12],\n",
    "    'working':[t21,t22,t21+t22]\n",
    "},index=['yes','no','total'])\n",
    "table1=table\n",
    "for ind, row in table.iterrows():\n",
    "    table1['retired'][ind]= f\"{table['retired'][ind]} ({table['retired'][ind]/table['retired'].loc['total']:.2%})\" \n",
    "    table1['working'][ind]= f\"{table['working'][ind]} ({table['working'][ind]/table['working'].loc['total']:.2%})\"\n",
    "table1"
   ]
  },
  {
   "cell_type": "code",
   "execution_count": null,
   "id": "d419559d",
   "metadata": {},
   "outputs": [],
   "source": [
    "chi2_contingency(table)[1] #p-value для 72-76 вкл"
   ]
  },
  {
   "cell_type": "code",
   "execution_count": null,
   "id": "2ad2abb7",
   "metadata": {},
   "outputs": [],
   "source": [
    "age=[63,64,65,66,67]\n",
    "sp1=['1','3']\n",
    "ret=changed.loc[changed.ragey_b.isin(age)]\n",
    "ret=ret.loc[changed.rmstat.isin(sp1)]\n",
    "wor=work.loc[work.ragey_b.isin(age)]\n",
    "wor=wor.loc[work.rmstat.isin(sp1)]\n",
    "\n",
    "t11 = ret['rpsyche'][ret['rpsyche']==1].count()\n",
    "t12 = ret['rpsyche'][ret['rpsyche']==0].count()\n",
    "t21 = wor['rpsyche'][wor['rpsyche']=='1'].count()\n",
    "t22=wor['rpsyche'][wor['rpsyche']=='0'].count()\n",
    "table= pd.DataFrame({\n",
    "    'retired':[t11,t12,t11 + t12],\n",
    "    'working':[t21,t22,t21+t22]\n",
    "},index=['yes','no','total'])\n",
    "table1=table\n",
    "for ind, row in table.iterrows():\n",
    "    table1['retired'][ind]= f\"{table['retired'][ind]} ({table['retired'][ind]/table['retired'].loc['total']:.2%})\" \n",
    "    table1['working'][ind]= f\"{table['working'][ind]} ({table['working'][ind]/table['working'].loc['total']:.2%})\"\n",
    "table1"
   ]
  },
  {
   "cell_type": "code",
   "execution_count": null,
   "id": "2694827c",
   "metadata": {},
   "outputs": [],
   "source": [
    "chi2_contingency(table)[1] #p-value для возраста 63-67 вкл, и сп=1,3(т.е. те, у кого есть партнер - муж или сожитель)"
   ]
  },
  {
   "cell_type": "code",
   "execution_count": null,
   "id": "643de9db",
   "metadata": {},
   "outputs": [],
   "source": [
    "age=[63,64,65,66,67]\n",
    "sp2=['2','4','5','6', '7','8']\n",
    "ret=changed.loc[changed.ragey_b.isin(age)]\n",
    "ret=ret.loc[changed.rmstat.isin(sp2)]\n",
    "wor=work.loc[work.ragey_b.isin(age)]\n",
    "wor=wor.loc[work.rmstat.isin(sp2)]\n",
    "\n",
    "t11 = ret['rpsyche'][ret['rpsyche']==1].count()\n",
    "t12 = ret['rpsyche'][ret['rpsyche']==0].count()\n",
    "t21 = wor['rpsyche'][wor['rpsyche']=='1'].count()\n",
    "t22=wor['rpsyche'][wor['rpsyche']=='0'].count()\n",
    "table= pd.DataFrame({\n",
    "    'retired':[t11,t12,t11 + t12],\n",
    "    'working':[t21,t22,t21+t22]\n",
    "},index=['yes','no','total'])\n",
    "table1=table\n",
    "for ind, row in table.iterrows():\n",
    "    table1['retired'][ind]= f\"{table['retired'][ind]} ({table['retired'][ind]/table['retired'].loc['total']:.2%})\" \n",
    "    table1['working'][ind]= f\"{table['working'][ind]} ({table['working'][ind]/table['working'].loc['total']:.2%})\"\n",
    "table1"
   ]
  },
  {
   "cell_type": "code",
   "execution_count": null,
   "id": "7dc616d4",
   "metadata": {},
   "outputs": [],
   "source": [
    "chi2_contingency(table)[1] #p-value для одиноких(сп=2,4,5,6,7,8), возаст-63-67"
   ]
  },
  {
   "cell_type": "code",
   "execution_count": null,
   "id": "926e5f08",
   "metadata": {},
   "outputs": [],
   "source": [
    "age=[63,64,65,66,67]\n",
    "ret=changed.loc[changed.ragey_b.isin(age)]\n",
    "ret=ret.loc[changed.ragender==1]\n",
    "wor=work.loc[work.ragey_b.isin(age)]\n",
    "wor=wor.loc[work.ragender==1]\n",
    "\n",
    "t11 = ret['rpsyche'][ret['rpsyche']==1].count()\n",
    "t12 = ret['rpsyche'][ret['rpsyche']==0].count()\n",
    "t21 = wor['rpsyche'][wor['rpsyche']=='1'].count()\n",
    "t22=wor['rpsyche'][wor['rpsyche']=='0'].count()\n",
    "table= pd.DataFrame({\n",
    "    'retired_male':[t11,t12,t11 + t12],\n",
    "    'working_male':[t21,t22,t21+t22]\n",
    "},index=['yes','no','total'])\n",
    "table1=table\n",
    "for ind, row in table.iterrows():\n",
    "    table1['retired_male'][ind]= f\"{table['retired_male'][ind]} ({table['retired_male'][ind]/table['retired_male'].loc['total']:.2%})\" \n",
    "    table1['working_male'][ind]= f\"{table['working_male'][ind]} ({table['working_male'][ind]/table['working_male'].loc['total']:.2%})\"\n",
    "table1"
   ]
  },
  {
   "cell_type": "code",
   "execution_count": null,
   "id": "871f3ebe",
   "metadata": {},
   "outputs": [],
   "source": [
    "chi2_contingency(table)[1] #p-value для мужчин, возраст 63-67"
   ]
  },
  {
   "cell_type": "code",
   "execution_count": null,
   "id": "f457c802",
   "metadata": {},
   "outputs": [],
   "source": [
    "age=[63,64,65,66,67]\n",
    "ret=changed.loc[changed.ragey_b.isin(age)]\n",
    "ret=ret.loc[changed.ragender==2]\n",
    "wor=work.loc[work.ragey_b.isin(age)]\n",
    "wor=wor.loc[work.ragender==2]\n",
    "\n",
    "t11 = ret['rpsyche'][ret['rpsyche']==1].count()\n",
    "t12 = ret['rpsyche'][ret['rpsyche']==0].count()\n",
    "t21 = wor['rpsyche'][wor['rpsyche']=='1'].count()\n",
    "t22=wor['rpsyche'][wor['rpsyche']=='0'].count()\n",
    "table= pd.DataFrame({\n",
    "    'retired_female':[t11,t12,t11 + t12],\n",
    "    'working_female':[t21,t22,t21+t22]\n",
    "},index=['yes','no','total'])\n",
    "table1=table\n",
    "for ind, row in table.iterrows():\n",
    "    table1['retired_female'][ind]= f\"{table['retired_female'][ind]} ({table['retired_female'][ind]/table['retired_female'].loc['total']:.2%})\" \n",
    "    table1['working_female'][ind]= f\"{table['working_female'][ind]} ({table['working_female'][ind]/table['working_female'].loc['total']:.2%})\"\n",
    "table1"
   ]
  },
  {
   "cell_type": "code",
   "execution_count": null,
   "id": "30742bd9",
   "metadata": {},
   "outputs": [],
   "source": [
    "chi2_contingency(table)[1] #p-value для женщин, возраст 63-67"
   ]
  },
  {
   "cell_type": "code",
   "execution_count": null,
   "id": "5030639e",
   "metadata": {},
   "outputs": [],
   "source": [
    "kek=changed.groupby(['ragey_b'])['retired'].count()\n",
    "lol=work.groupby(['ragey_b'])['retired'].count()\n",
    "fig = plt.figure()\n",
    "ax = fig.add_subplot(111)\n",
    "ax.scatter(x=kek.index,y=kek)\n",
    "ax.scatter(x=lol.index,y=lol)\n",
    "\n",
    "plt.show()"
   ]
  },
  {
   "cell_type": "code",
   "execution_count": null,
   "id": "4194e7a9",
   "metadata": {},
   "outputs": [],
   "source": [
    "omg=abs(kek-lol)\n",
    "omg=omg.dropna()\n",
    "omg[omg<=1000]"
   ]
  }
 ],
 "metadata": {
  "kernelspec": {
   "display_name": "Python 3 (ipykernel)",
   "language": "python",
   "name": "python3"
  },
  "language_info": {
   "codemirror_mode": {
    "name": "ipython",
    "version": 3
   },
   "file_extension": ".py",
   "mimetype": "text/x-python",
   "name": "python",
   "nbconvert_exporter": "python",
   "pygments_lexer": "ipython3",
   "version": "3.10.9"
  },
  "vscode": {
   "interpreter": {
    "hash": "6e9cb0b0363e5557a1226609ff9b96b146d65c059ad9577a7c3359000ec7d1ac"
   }
  }
 },
 "nbformat": 4,
 "nbformat_minor": 5
}
