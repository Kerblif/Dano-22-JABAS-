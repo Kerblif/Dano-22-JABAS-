{
 "cells": [
  {
   "cell_type": "code",
   "execution_count": 236,
   "id": "47631568",
   "metadata": {},
   "outputs": [],
   "source": [
    "import pandas as pd\n",
    "import matplotlib.pyplot as plt\n",
    "import numpy as np\n",
    "\n",
    "\n",
    "import scipy.stats as stats\n",
    "from scipy.stats import chisquare\n",
    "from scipy.stats import chi2_contingency\n",
    "\n",
    "changed=pd.read_csv('1.csv', low_memory=False) #вышли на пенсию\n",
    "work=pd.read_csv('Health-onwr.csv', low_memory=False) #работающие"
   ]
  },
  {
   "cell_type": "code",
   "execution_count": 269,
   "id": "16aa2d42",
   "metadata": {},
   "outputs": [
    {
     "data": {
      "text/html": [
       "<div>\n",
       "<style scoped>\n",
       "    .dataframe tbody tr th:only-of-type {\n",
       "        vertical-align: middle;\n",
       "    }\n",
       "\n",
       "    .dataframe tbody tr th {\n",
       "        vertical-align: top;\n",
       "    }\n",
       "\n",
       "    .dataframe thead th {\n",
       "        text-align: right;\n",
       "    }\n",
       "</style>\n",
       "<table border=\"1\" class=\"dataframe\">\n",
       "  <thead>\n",
       "    <tr style=\"text-align: right;\">\n",
       "      <th></th>\n",
       "      <th>hhidpn</th>\n",
       "      <th>ragey_b</th>\n",
       "      <th>rpsyche</th>\n",
       "      <th>index_wave</th>\n",
       "      <th>retired</th>\n",
       "      <th>rmstat</th>\n",
       "      <th>ragender</th>\n",
       "    </tr>\n",
       "  </thead>\n",
       "  <tbody>\n",
       "    <tr>\n",
       "      <th>5670</th>\n",
       "      <td>112760010</td>\n",
       "      <td>52</td>\n",
       "      <td>0</td>\n",
       "      <td>2</td>\n",
       "      <td>100</td>\n",
       "      <td>1</td>\n",
       "      <td>2</td>\n",
       "    </tr>\n",
       "    <tr>\n",
       "      <th>5675</th>\n",
       "      <td>527574020</td>\n",
       "      <td>55</td>\n",
       "      <td>0</td>\n",
       "      <td>2</td>\n",
       "      <td>100</td>\n",
       "      <td>1</td>\n",
       "      <td>2</td>\n",
       "    </tr>\n",
       "    <tr>\n",
       "      <th>5681</th>\n",
       "      <td>527681010</td>\n",
       "      <td>58</td>\n",
       "      <td>0</td>\n",
       "      <td>2</td>\n",
       "      <td>100</td>\n",
       "      <td>3</td>\n",
       "      <td>2</td>\n",
       "    </tr>\n",
       "    <tr>\n",
       "      <th>5687</th>\n",
       "      <td>205443010</td>\n",
       "      <td>76</td>\n",
       "      <td>0</td>\n",
       "      <td>2</td>\n",
       "      <td>100</td>\n",
       "      <td>7</td>\n",
       "      <td>2</td>\n",
       "    </tr>\n",
       "    <tr>\n",
       "      <th>5688</th>\n",
       "      <td>204154010</td>\n",
       "      <td>79</td>\n",
       "      <td>0</td>\n",
       "      <td>2</td>\n",
       "      <td>100</td>\n",
       "      <td>7</td>\n",
       "      <td>2</td>\n",
       "    </tr>\n",
       "    <tr>\n",
       "      <th>...</th>\n",
       "      <td>...</td>\n",
       "      <td>...</td>\n",
       "      <td>...</td>\n",
       "      <td>...</td>\n",
       "      <td>...</td>\n",
       "      <td>...</td>\n",
       "      <td>...</td>\n",
       "    </tr>\n",
       "    <tr>\n",
       "      <th>45038</th>\n",
       "      <td>76817020</td>\n",
       "      <td>72</td>\n",
       "      <td>0</td>\n",
       "      <td>11</td>\n",
       "      <td>100</td>\n",
       "      <td>1</td>\n",
       "      <td>2</td>\n",
       "    </tr>\n",
       "    <tr>\n",
       "      <th>45039</th>\n",
       "      <td>14179010</td>\n",
       "      <td>81</td>\n",
       "      <td>0</td>\n",
       "      <td>11</td>\n",
       "      <td>100</td>\n",
       "      <td>1</td>\n",
       "      <td>1</td>\n",
       "    </tr>\n",
       "    <tr>\n",
       "      <th>45040</th>\n",
       "      <td>55574020</td>\n",
       "      <td>77</td>\n",
       "      <td>1</td>\n",
       "      <td>11</td>\n",
       "      <td>100</td>\n",
       "      <td>7</td>\n",
       "      <td>2</td>\n",
       "    </tr>\n",
       "    <tr>\n",
       "      <th>45041</th>\n",
       "      <td>24539011</td>\n",
       "      <td>76</td>\n",
       "      <td>0</td>\n",
       "      <td>11</td>\n",
       "      <td>100</td>\n",
       "      <td>3</td>\n",
       "      <td>2</td>\n",
       "    </tr>\n",
       "    <tr>\n",
       "      <th>45042</th>\n",
       "      <td>75035041</td>\n",
       "      <td>73</td>\n",
       "      <td>0</td>\n",
       "      <td>11</td>\n",
       "      <td>100</td>\n",
       "      <td>1</td>\n",
       "      <td>2</td>\n",
       "    </tr>\n",
       "  </tbody>\n",
       "</table>\n",
       "<p>21474 rows × 7 columns</p>\n",
       "</div>"
      ],
      "text/plain": [
       "          hhidpn  ragey_b  rpsyche  index_wave  retired rmstat  ragender\n",
       "5670   112760010       52        0           2      100      1         2\n",
       "5675   527574020       55        0           2      100      1         2\n",
       "5681   527681010       58        0           2      100      3         2\n",
       "5687   205443010       76        0           2      100      7         2\n",
       "5688   204154010       79        0           2      100      7         2\n",
       "...          ...      ...      ...         ...      ...    ...       ...\n",
       "45038   76817020       72        0          11      100      1         2\n",
       "45039   14179010       81        0          11      100      1         1\n",
       "45040   55574020       77        1          11      100      7         2\n",
       "45041   24539011       76        0          11      100      3         2\n",
       "45042   75035041       73        0          11      100      1         2\n",
       "\n",
       "[21474 rows x 7 columns]"
      ]
     },
     "execution_count": 269,
     "metadata": {},
     "output_type": "execute_result"
    }
   ],
   "source": [
    "changed=changed[['hhidpn','ragey_b','rpsyche','index_wave','retired','rmstat','ragender']]\n",
    "changed = changed.loc[changed.retired==100]\n",
    "changed"
   ]
  },
  {
   "cell_type": "code",
   "execution_count": 270,
   "id": "e44aebb4",
   "metadata": {},
   "outputs": [
    {
     "name": "stderr",
     "output_type": "stream",
     "text": [
      "C:\\Users\\viksi\\AppData\\Local\\Temp\\ipykernel_328\\1496320254.py:16: SettingWithCopyWarning: \n",
      "A value is trying to be set on a copy of a slice from a DataFrame\n",
      "\n",
      "See the caveats in the documentation: https://pandas.pydata.org/pandas-docs/stable/user_guide/indexing.html#returning-a-view-versus-a-copy\n",
      "  table1['working'][ind]= f\"{table['working'][ind]} ({table['working'][ind]/table['working'].loc['total']:.2%})\"\n"
     ]
    },
    {
     "data": {
      "text/html": [
       "<div>\n",
       "<style scoped>\n",
       "    .dataframe tbody tr th:only-of-type {\n",
       "        vertical-align: middle;\n",
       "    }\n",
       "\n",
       "    .dataframe tbody tr th {\n",
       "        vertical-align: top;\n",
       "    }\n",
       "\n",
       "    .dataframe thead th {\n",
       "        text-align: right;\n",
       "    }\n",
       "</style>\n",
       "<table border=\"1\" class=\"dataframe\">\n",
       "  <thead>\n",
       "    <tr style=\"text-align: right;\">\n",
       "      <th></th>\n",
       "      <th>retired</th>\n",
       "      <th>working</th>\n",
       "    </tr>\n",
       "  </thead>\n",
       "  <tbody>\n",
       "    <tr>\n",
       "      <th>yes</th>\n",
       "      <td>607 (12.19%)</td>\n",
       "      <td>588 (9.95%)</td>\n",
       "    </tr>\n",
       "    <tr>\n",
       "      <th>no</th>\n",
       "      <td>4372 (87.81%)</td>\n",
       "      <td>5319 (90.05%)</td>\n",
       "    </tr>\n",
       "    <tr>\n",
       "      <th>total</th>\n",
       "      <td>4979 (100.00%)</td>\n",
       "      <td>5907 (100.00%)</td>\n",
       "    </tr>\n",
       "  </tbody>\n",
       "</table>\n",
       "</div>"
      ],
      "text/plain": [
       "              retired         working\n",
       "yes      607 (12.19%)     588 (9.95%)\n",
       "no      4372 (87.81%)   5319 (90.05%)\n",
       "total  4979 (100.00%)  5907 (100.00%)"
      ]
     },
     "execution_count": 270,
     "metadata": {},
     "output_type": "execute_result"
    }
   ],
   "source": [
    "a=[62,63,64,65,66]\n",
    "ret=changed.loc[changed.ragey_b.isin(a)]\n",
    "wor=work.loc[work.ragey_b.isin(a)]\n",
    "\n",
    "t11 = ret['rpsyche'][ret['rpsyche']==1].count()\n",
    "t12 = ret['rpsyche'][ret['rpsyche']==0].count()\n",
    "t21 = wor['rpsyche'][wor['rpsyche']=='1'].count()\n",
    "t22=wor['rpsyche'][wor['rpsyche']=='0'].count()\n",
    "table= pd.DataFrame({\n",
    "    'retired':[t11,t12,t11 + t12],\n",
    "    'working':[t21,t22,t21+t22]\n",
    "},index=['yes','no','total'])\n",
    "table1=table\n",
    "for ind, row in table.iterrows():\n",
    "    table1['retired'][ind]= f\"{table['retired'][ind]} ({table['retired'][ind]/table['retired'].loc['total']:.2%})\" \n",
    "    table1['working'][ind]= f\"{table['working'][ind]} ({table['working'][ind]/table['working'].loc['total']:.2%})\"\n",
    "table1"
   ]
  },
  {
   "cell_type": "code",
   "execution_count": 257,
   "id": "b828b61c",
   "metadata": {},
   "outputs": [
    {
     "data": {
      "text/plain": [
       "0.0002254936340515919"
      ]
     },
     "execution_count": 257,
     "metadata": {},
     "output_type": "execute_result"
    }
   ],
   "source": [
    "chi2_contingency(table)[1] #p-value для 63-67 вкл"
   ]
  },
  {
   "cell_type": "code",
   "execution_count": 272,
   "id": "a3304a23",
   "metadata": {},
   "outputs": [
    {
     "name": "stderr",
     "output_type": "stream",
     "text": [
      "C:\\Users\\viksi\\AppData\\Local\\Temp\\ipykernel_328\\963834478.py:16: SettingWithCopyWarning: \n",
      "A value is trying to be set on a copy of a slice from a DataFrame\n",
      "\n",
      "See the caveats in the documentation: https://pandas.pydata.org/pandas-docs/stable/user_guide/indexing.html#returning-a-view-versus-a-copy\n",
      "  table1['working'][ind]= f\"{table['working'][ind]} ({table['working'][ind]/table['working'].loc['total']:.2%})\"\n"
     ]
    },
    {
     "data": {
      "text/html": [
       "<div>\n",
       "<style scoped>\n",
       "    .dataframe tbody tr th:only-of-type {\n",
       "        vertical-align: middle;\n",
       "    }\n",
       "\n",
       "    .dataframe tbody tr th {\n",
       "        vertical-align: top;\n",
       "    }\n",
       "\n",
       "    .dataframe thead th {\n",
       "        text-align: right;\n",
       "    }\n",
       "</style>\n",
       "<table border=\"1\" class=\"dataframe\">\n",
       "  <thead>\n",
       "    <tr style=\"text-align: right;\">\n",
       "      <th></th>\n",
       "      <th>retired</th>\n",
       "      <th>working</th>\n",
       "    </tr>\n",
       "  </thead>\n",
       "  <tbody>\n",
       "    <tr>\n",
       "      <th>yes</th>\n",
       "      <td>552 (9.94%)</td>\n",
       "      <td>247 (8.53%)</td>\n",
       "    </tr>\n",
       "    <tr>\n",
       "      <th>no</th>\n",
       "      <td>5001 (90.06%)</td>\n",
       "      <td>2649 (91.47%)</td>\n",
       "    </tr>\n",
       "    <tr>\n",
       "      <th>total</th>\n",
       "      <td>5553 (100.00%)</td>\n",
       "      <td>2896 (100.00%)</td>\n",
       "    </tr>\n",
       "  </tbody>\n",
       "</table>\n",
       "</div>"
      ],
      "text/plain": [
       "              retired         working\n",
       "yes       552 (9.94%)     247 (8.53%)\n",
       "no      5001 (90.06%)   2649 (91.47%)\n",
       "total  5553 (100.00%)  2896 (100.00%)"
      ]
     },
     "execution_count": 272,
     "metadata": {},
     "output_type": "execute_result"
    }
   ],
   "source": [
    "b=[67,68,69,70,71]\n",
    "ret=changed.loc[changed.ragey_b.isin(b)]\n",
    "wor=work.loc[work.ragey_b.isin(b)]\n",
    "\n",
    "t11 = ret['rpsyche'][ret['rpsyche']==1].count()\n",
    "t12 = ret['rpsyche'][ret['rpsyche']==0].count()\n",
    "t21 = wor['rpsyche'][wor['rpsyche']=='1'].count()\n",
    "t22=wor['rpsyche'][wor['rpsyche']=='0'].count()\n",
    "table= pd.DataFrame({\n",
    "    'retired':[t11,t12,t11 + t12],\n",
    "    'working':[t21,t22,t21+t22]\n",
    "},index=['yes','no','total'])\n",
    "table1=table\n",
    "for ind, row in table.iterrows():\n",
    "    table1['retired'][ind]= f\"{table['retired'][ind]} ({table['retired'][ind]/table['retired'].loc['total']:.2%})\" \n",
    "    table1['working'][ind]= f\"{table['working'][ind]} ({table['working'][ind]/table['working'].loc['total']:.2%})\"\n",
    "table1"
   ]
  },
  {
   "cell_type": "code",
   "execution_count": 261,
   "id": "c109c9ac",
   "metadata": {},
   "outputs": [
    {
     "data": {
      "text/plain": [
       "0.03888488254868195"
      ]
     },
     "execution_count": 261,
     "metadata": {},
     "output_type": "execute_result"
    }
   ],
   "source": [
    "chi2_contingency(table)[1] #p-value для 67-71 вкл"
   ]
  },
  {
   "cell_type": "code",
   "execution_count": 275,
   "id": "dbf12a09",
   "metadata": {},
   "outputs": [
    {
     "name": "stderr",
     "output_type": "stream",
     "text": [
      "C:\\Users\\viksi\\AppData\\Local\\Temp\\ipykernel_328\\2972821895.py:16: SettingWithCopyWarning: \n",
      "A value is trying to be set on a copy of a slice from a DataFrame\n",
      "\n",
      "See the caveats in the documentation: https://pandas.pydata.org/pandas-docs/stable/user_guide/indexing.html#returning-a-view-versus-a-copy\n",
      "  table1['working'][ind]= f\"{table['working'][ind]} ({table['working'][ind]/table['working'].loc['total']:.2%})\"\n"
     ]
    },
    {
     "data": {
      "text/html": [
       "<div>\n",
       "<style scoped>\n",
       "    .dataframe tbody tr th:only-of-type {\n",
       "        vertical-align: middle;\n",
       "    }\n",
       "\n",
       "    .dataframe tbody tr th {\n",
       "        vertical-align: top;\n",
       "    }\n",
       "\n",
       "    .dataframe thead th {\n",
       "        text-align: right;\n",
       "    }\n",
       "</style>\n",
       "<table border=\"1\" class=\"dataframe\">\n",
       "  <thead>\n",
       "    <tr style=\"text-align: right;\">\n",
       "      <th></th>\n",
       "      <th>retired</th>\n",
       "      <th>working</th>\n",
       "    </tr>\n",
       "  </thead>\n",
       "  <tbody>\n",
       "    <tr>\n",
       "      <th>yes</th>\n",
       "      <td>444 (10.56%)</td>\n",
       "      <td>117 (7.99%)</td>\n",
       "    </tr>\n",
       "    <tr>\n",
       "      <th>no</th>\n",
       "      <td>3762 (89.44%)</td>\n",
       "      <td>1347 (92.01%)</td>\n",
       "    </tr>\n",
       "    <tr>\n",
       "      <th>total</th>\n",
       "      <td>4206 (100.00%)</td>\n",
       "      <td>1464 (100.00%)</td>\n",
       "    </tr>\n",
       "  </tbody>\n",
       "</table>\n",
       "</div>"
      ],
      "text/plain": [
       "              retired         working\n",
       "yes      444 (10.56%)     117 (7.99%)\n",
       "no      3762 (89.44%)   1347 (92.01%)\n",
       "total  4206 (100.00%)  1464 (100.00%)"
      ]
     },
     "execution_count": 275,
     "metadata": {},
     "output_type": "execute_result"
    }
   ],
   "source": [
    "c=[72,73,74,75,76]\n",
    "ret=changed.loc[changed.ragey_b.isin(c)]\n",
    "wor=work.loc[work.ragey_b.isin(c)]\n",
    "\n",
    "t11 = ret['rpsyche'][ret['rpsyche']==1].count()\n",
    "t12 = ret['rpsyche'][ret['rpsyche']==0].count()\n",
    "t21 = wor['rpsyche'][wor['rpsyche']=='1'].count()\n",
    "t22=wor['rpsyche'][wor['rpsyche']=='0'].count()\n",
    "table= pd.DataFrame({\n",
    "    'retired':[t11,t12,t11+t12],\n",
    "    'working':[t21,t22,t21+t22]\n",
    "},index=['yes','no','total'])\n",
    "table1=table\n",
    "for ind, row in table.iterrows():\n",
    "    table1['retired'][ind]= f\"{table['retired'][ind]} ({table['retired'][ind]/table['retired'].loc['total']:.2%})\" \n",
    "    table1['working'][ind]= f\"{table['working'][ind]} ({table['working'][ind]/table['working'].loc['total']:.2%})\"\n",
    "table1"
   ]
  },
  {
   "cell_type": "code",
   "execution_count": 264,
   "id": "d419559d",
   "metadata": {},
   "outputs": [
    {
     "data": {
      "text/plain": [
       "0.005441767383072824"
      ]
     },
     "execution_count": 264,
     "metadata": {},
     "output_type": "execute_result"
    }
   ],
   "source": [
    "chi2_contingency(table)[1] #p-value для 72-76 вкл"
   ]
  },
  {
   "cell_type": "code",
   "execution_count": 276,
   "id": "2ad2abb7",
   "metadata": {},
   "outputs": [
    {
     "name": "stderr",
     "output_type": "stream",
     "text": [
      "C:\\Users\\viksi\\AppData\\Local\\Temp\\ipykernel_328\\2113094521.py:19: SettingWithCopyWarning: \n",
      "A value is trying to be set on a copy of a slice from a DataFrame\n",
      "\n",
      "See the caveats in the documentation: https://pandas.pydata.org/pandas-docs/stable/user_guide/indexing.html#returning-a-view-versus-a-copy\n",
      "  table1['working'][ind]= f\"{table['working'][ind]} ({table['working'][ind]/table['working'].loc['total']:.2%})\"\n"
     ]
    },
    {
     "data": {
      "text/html": [
       "<div>\n",
       "<style scoped>\n",
       "    .dataframe tbody tr th:only-of-type {\n",
       "        vertical-align: middle;\n",
       "    }\n",
       "\n",
       "    .dataframe tbody tr th {\n",
       "        vertical-align: top;\n",
       "    }\n",
       "\n",
       "    .dataframe thead th {\n",
       "        text-align: right;\n",
       "    }\n",
       "</style>\n",
       "<table border=\"1\" class=\"dataframe\">\n",
       "  <thead>\n",
       "    <tr style=\"text-align: right;\">\n",
       "      <th></th>\n",
       "      <th>retired</th>\n",
       "      <th>working</th>\n",
       "    </tr>\n",
       "  </thead>\n",
       "  <tbody>\n",
       "    <tr>\n",
       "      <th>yes</th>\n",
       "      <td>361 (9.41%)</td>\n",
       "      <td>323 (8.69%)</td>\n",
       "    </tr>\n",
       "    <tr>\n",
       "      <th>no</th>\n",
       "      <td>3474 (90.59%)</td>\n",
       "      <td>3395 (91.31%)</td>\n",
       "    </tr>\n",
       "    <tr>\n",
       "      <th>total</th>\n",
       "      <td>3835 (100.00%)</td>\n",
       "      <td>3718 (100.00%)</td>\n",
       "    </tr>\n",
       "  </tbody>\n",
       "</table>\n",
       "</div>"
      ],
      "text/plain": [
       "              retired         working\n",
       "yes       361 (9.41%)     323 (8.69%)\n",
       "no      3474 (90.59%)   3395 (91.31%)\n",
       "total  3835 (100.00%)  3718 (100.00%)"
      ]
     },
     "execution_count": 276,
     "metadata": {},
     "output_type": "execute_result"
    }
   ],
   "source": [
    "age=[63,64,65,66,67]\n",
    "sp1=['1','3']\n",
    "ret=changed.loc[changed.ragey_b.isin(age)]\n",
    "ret=ret.loc[changed.rmstat.isin(sp1)]\n",
    "wor=work.loc[work.ragey_b.isin(age)]\n",
    "wor=wor.loc[work.rmstat.isin(sp1)]\n",
    "\n",
    "t11 = ret['rpsyche'][ret['rpsyche']==1].count()\n",
    "t12 = ret['rpsyche'][ret['rpsyche']==0].count()\n",
    "t21 = wor['rpsyche'][wor['rpsyche']=='1'].count()\n",
    "t22=wor['rpsyche'][wor['rpsyche']=='0'].count()\n",
    "table= pd.DataFrame({\n",
    "    'retired':[t11,t12,t11 + t12],\n",
    "    'working':[t21,t22,t21+t22]\n",
    "},index=['yes','no','total'])\n",
    "table1=table\n",
    "for ind, row in table.iterrows():\n",
    "    table1['retired'][ind]= f\"{table['retired'][ind]} ({table['retired'][ind]/table['retired'].loc['total']:.2%})\" \n",
    "    table1['working'][ind]= f\"{table['working'][ind]} ({table['working'][ind]/table['working'].loc['total']:.2%})\"\n",
    "table1"
   ]
  },
  {
   "cell_type": "code",
   "execution_count": 129,
   "id": "2694827c",
   "metadata": {},
   "outputs": [
    {
     "data": {
      "text/plain": [
       "0.2896901513885711"
      ]
     },
     "execution_count": 129,
     "metadata": {},
     "output_type": "execute_result"
    }
   ],
   "source": [
    "chi2_contingency(table)[1] #p-value для возраста 63-67 вкл, и сп=1,3(т.е. те, у кого есть партнер - муж или сожитель)"
   ]
  },
  {
   "cell_type": "code",
   "execution_count": 277,
   "id": "643de9db",
   "metadata": {},
   "outputs": [
    {
     "name": "stderr",
     "output_type": "stream",
     "text": [
      "C:\\Users\\viksi\\AppData\\Local\\Temp\\ipykernel_328\\2169881014.py:19: SettingWithCopyWarning: \n",
      "A value is trying to be set on a copy of a slice from a DataFrame\n",
      "\n",
      "See the caveats in the documentation: https://pandas.pydata.org/pandas-docs/stable/user_guide/indexing.html#returning-a-view-versus-a-copy\n",
      "  table1['working'][ind]= f\"{table['working'][ind]} ({table['working'][ind]/table['working'].loc['total']:.2%})\"\n"
     ]
    },
    {
     "data": {
      "text/html": [
       "<div>\n",
       "<style scoped>\n",
       "    .dataframe tbody tr th:only-of-type {\n",
       "        vertical-align: middle;\n",
       "    }\n",
       "\n",
       "    .dataframe tbody tr th {\n",
       "        vertical-align: top;\n",
       "    }\n",
       "\n",
       "    .dataframe thead th {\n",
       "        text-align: right;\n",
       "    }\n",
       "</style>\n",
       "<table border=\"1\" class=\"dataframe\">\n",
       "  <thead>\n",
       "    <tr style=\"text-align: right;\">\n",
       "      <th></th>\n",
       "      <th>retired</th>\n",
       "      <th>working</th>\n",
       "    </tr>\n",
       "  </thead>\n",
       "  <tbody>\n",
       "    <tr>\n",
       "      <th>yes</th>\n",
       "      <td>263 (17.19%)</td>\n",
       "      <td>175 (13.30%)</td>\n",
       "    </tr>\n",
       "    <tr>\n",
       "      <th>no</th>\n",
       "      <td>1267 (82.81%)</td>\n",
       "      <td>1141 (86.70%)</td>\n",
       "    </tr>\n",
       "    <tr>\n",
       "      <th>total</th>\n",
       "      <td>1530 (100.00%)</td>\n",
       "      <td>1316 (100.00%)</td>\n",
       "    </tr>\n",
       "  </tbody>\n",
       "</table>\n",
       "</div>"
      ],
      "text/plain": [
       "              retired         working\n",
       "yes      263 (17.19%)    175 (13.30%)\n",
       "no      1267 (82.81%)   1141 (86.70%)\n",
       "total  1530 (100.00%)  1316 (100.00%)"
      ]
     },
     "execution_count": 277,
     "metadata": {},
     "output_type": "execute_result"
    }
   ],
   "source": [
    "age=[63,64,65,66,67]\n",
    "sp2=['2','4','5','6', '7','8']\n",
    "ret=changed.loc[changed.ragey_b.isin(age)]\n",
    "ret=ret.loc[changed.rmstat.isin(sp2)]\n",
    "wor=work.loc[work.ragey_b.isin(age)]\n",
    "wor=wor.loc[work.rmstat.isin(sp2)]\n",
    "\n",
    "t11 = ret['rpsyche'][ret['rpsyche']==1].count()\n",
    "t12 = ret['rpsyche'][ret['rpsyche']==0].count()\n",
    "t21 = wor['rpsyche'][wor['rpsyche']=='1'].count()\n",
    "t22=wor['rpsyche'][wor['rpsyche']=='0'].count()\n",
    "table= pd.DataFrame({\n",
    "    'retired':[t11,t12,t11 + t12],\n",
    "    'working':[t21,t22,t21+t22]\n",
    "},index=['yes','no','total'])\n",
    "table1=table\n",
    "for ind, row in table.iterrows():\n",
    "    table1['retired'][ind]= f\"{table['retired'][ind]} ({table['retired'][ind]/table['retired'].loc['total']:.2%})\" \n",
    "    table1['working'][ind]= f\"{table['working'][ind]} ({table['working'][ind]/table['working'].loc['total']:.2%})\"\n",
    "table1"
   ]
  },
  {
   "cell_type": "code",
   "execution_count": 131,
   "id": "7dc616d4",
   "metadata": {},
   "outputs": [
    {
     "data": {
      "text/plain": [
       "0.004855720477424109"
      ]
     },
     "execution_count": 131,
     "metadata": {},
     "output_type": "execute_result"
    }
   ],
   "source": [
    "chi2_contingency(table)[1] #p-value для одиноких(сп=2,4,5,6,7,8), возаст-63-67"
   ]
  },
  {
   "cell_type": "code",
   "execution_count": 278,
   "id": "926e5f08",
   "metadata": {},
   "outputs": [
    {
     "name": "stderr",
     "output_type": "stream",
     "text": [
      "C:\\Users\\viksi\\AppData\\Local\\Temp\\ipykernel_328\\4068240361.py:18: SettingWithCopyWarning: \n",
      "A value is trying to be set on a copy of a slice from a DataFrame\n",
      "\n",
      "See the caveats in the documentation: https://pandas.pydata.org/pandas-docs/stable/user_guide/indexing.html#returning-a-view-versus-a-copy\n",
      "  table1['working_male'][ind]= f\"{table['working_male'][ind]} ({table['working_male'][ind]/table['working_male'].loc['total']:.2%})\"\n"
     ]
    },
    {
     "data": {
      "text/html": [
       "<div>\n",
       "<style scoped>\n",
       "    .dataframe tbody tr th:only-of-type {\n",
       "        vertical-align: middle;\n",
       "    }\n",
       "\n",
       "    .dataframe tbody tr th {\n",
       "        vertical-align: top;\n",
       "    }\n",
       "\n",
       "    .dataframe thead th {\n",
       "        text-align: right;\n",
       "    }\n",
       "</style>\n",
       "<table border=\"1\" class=\"dataframe\">\n",
       "  <thead>\n",
       "    <tr style=\"text-align: right;\">\n",
       "      <th></th>\n",
       "      <th>retired_male</th>\n",
       "      <th>working_male</th>\n",
       "    </tr>\n",
       "  </thead>\n",
       "  <tbody>\n",
       "    <tr>\n",
       "      <th>yes</th>\n",
       "      <td>228 (8.91%)</td>\n",
       "      <td>162 (6.43%)</td>\n",
       "    </tr>\n",
       "    <tr>\n",
       "      <th>no</th>\n",
       "      <td>2330 (91.09%)</td>\n",
       "      <td>2357 (93.57%)</td>\n",
       "    </tr>\n",
       "    <tr>\n",
       "      <th>total</th>\n",
       "      <td>2558 (100.00%)</td>\n",
       "      <td>2519 (100.00%)</td>\n",
       "    </tr>\n",
       "  </tbody>\n",
       "</table>\n",
       "</div>"
      ],
      "text/plain": [
       "         retired_male    working_male\n",
       "yes       228 (8.91%)     162 (6.43%)\n",
       "no      2330 (91.09%)   2357 (93.57%)\n",
       "total  2558 (100.00%)  2519 (100.00%)"
      ]
     },
     "execution_count": 278,
     "metadata": {},
     "output_type": "execute_result"
    }
   ],
   "source": [
    "age=[63,64,65,66,67]\n",
    "ret=changed.loc[changed.ragey_b.isin(age)]\n",
    "ret=ret.loc[changed.ragender==1]\n",
    "wor=work.loc[work.ragey_b.isin(age)]\n",
    "wor=wor.loc[work.ragender==1]\n",
    "\n",
    "t11 = ret['rpsyche'][ret['rpsyche']==1].count()\n",
    "t12 = ret['rpsyche'][ret['rpsyche']==0].count()\n",
    "t21 = wor['rpsyche'][wor['rpsyche']=='1'].count()\n",
    "t22=wor['rpsyche'][wor['rpsyche']=='0'].count()\n",
    "table= pd.DataFrame({\n",
    "    'retired_male':[t11,t12,t11 + t12],\n",
    "    'working_male':[t21,t22,t21+t22]\n",
    "},index=['yes','no','total'])\n",
    "table1=table\n",
    "for ind, row in table.iterrows():\n",
    "    table1['retired_male'][ind]= f\"{table['retired_male'][ind]} ({table['retired_male'][ind]/table['retired_male'].loc['total']:.2%})\" \n",
    "    table1['working_male'][ind]= f\"{table['working_male'][ind]} ({table['working_male'][ind]/table['working_male'].loc['total']:.2%})\"\n",
    "table1"
   ]
  },
  {
   "cell_type": "code",
   "execution_count": 133,
   "id": "871f3ebe",
   "metadata": {},
   "outputs": [
    {
     "data": {
      "text/plain": [
       "0.0010838171553010534"
      ]
     },
     "execution_count": 133,
     "metadata": {},
     "output_type": "execute_result"
    }
   ],
   "source": [
    "chi2_contingency(table)[1] #p-value для мужчин, возраст 63-67"
   ]
  },
  {
   "cell_type": "code",
   "execution_count": 279,
   "id": "f457c802",
   "metadata": {},
   "outputs": [
    {
     "name": "stderr",
     "output_type": "stream",
     "text": [
      "C:\\Users\\viksi\\AppData\\Local\\Temp\\ipykernel_328\\3306433160.py:18: SettingWithCopyWarning: \n",
      "A value is trying to be set on a copy of a slice from a DataFrame\n",
      "\n",
      "See the caveats in the documentation: https://pandas.pydata.org/pandas-docs/stable/user_guide/indexing.html#returning-a-view-versus-a-copy\n",
      "  table1['working_female'][ind]= f\"{table['working_female'][ind]} ({table['working_female'][ind]/table['working_female'].loc['total']:.2%})\"\n"
     ]
    },
    {
     "data": {
      "text/html": [
       "<div>\n",
       "<style scoped>\n",
       "    .dataframe tbody tr th:only-of-type {\n",
       "        vertical-align: middle;\n",
       "    }\n",
       "\n",
       "    .dataframe tbody tr th {\n",
       "        vertical-align: top;\n",
       "    }\n",
       "\n",
       "    .dataframe thead th {\n",
       "        text-align: right;\n",
       "    }\n",
       "</style>\n",
       "<table border=\"1\" class=\"dataframe\">\n",
       "  <thead>\n",
       "    <tr style=\"text-align: right;\">\n",
       "      <th></th>\n",
       "      <th>retired_female</th>\n",
       "      <th>working_female</th>\n",
       "    </tr>\n",
       "  </thead>\n",
       "  <tbody>\n",
       "    <tr>\n",
       "      <th>yes</th>\n",
       "      <td>396 (14.11%)</td>\n",
       "      <td>336 (13.35%)</td>\n",
       "    </tr>\n",
       "    <tr>\n",
       "      <th>no</th>\n",
       "      <td>2411 (85.89%)</td>\n",
       "      <td>2181 (86.65%)</td>\n",
       "    </tr>\n",
       "    <tr>\n",
       "      <th>total</th>\n",
       "      <td>2807 (100.00%)</td>\n",
       "      <td>2517 (100.00%)</td>\n",
       "    </tr>\n",
       "  </tbody>\n",
       "</table>\n",
       "</div>"
      ],
      "text/plain": [
       "       retired_female  working_female\n",
       "yes      396 (14.11%)    336 (13.35%)\n",
       "no      2411 (85.89%)   2181 (86.65%)\n",
       "total  2807 (100.00%)  2517 (100.00%)"
      ]
     },
     "execution_count": 279,
     "metadata": {},
     "output_type": "execute_result"
    }
   ],
   "source": [
    "age=[63,64,65,66,67]\n",
    "ret=changed.loc[changed.ragey_b.isin(age)]\n",
    "ret=ret.loc[changed.ragender==2]\n",
    "wor=work.loc[work.ragey_b.isin(age)]\n",
    "wor=wor.loc[work.ragender==2]\n",
    "\n",
    "t11 = ret['rpsyche'][ret['rpsyche']==1].count()\n",
    "t12 = ret['rpsyche'][ret['rpsyche']==0].count()\n",
    "t21 = wor['rpsyche'][wor['rpsyche']=='1'].count()\n",
    "t22=wor['rpsyche'][wor['rpsyche']=='0'].count()\n",
    "table= pd.DataFrame({\n",
    "    'retired_female':[t11,t12,t11 + t12],\n",
    "    'working_female':[t21,t22,t21+t22]\n",
    "},index=['yes','no','total'])\n",
    "table1=table\n",
    "for ind, row in table.iterrows():\n",
    "    table1['retired_female'][ind]= f\"{table['retired_female'][ind]} ({table['retired_female'][ind]/table['retired_female'].loc['total']:.2%})\" \n",
    "    table1['working_female'][ind]= f\"{table['working_female'][ind]} ({table['working_female'][ind]/table['working_female'].loc['total']:.2%})\"\n",
    "table1"
   ]
  },
  {
   "cell_type": "code",
   "execution_count": 135,
   "id": "30742bd9",
   "metadata": {},
   "outputs": [
    {
     "data": {
      "text/plain": [
       "0.44583368858638583"
      ]
     },
     "execution_count": 135,
     "metadata": {},
     "output_type": "execute_result"
    }
   ],
   "source": [
    "chi2_contingency(table)[1] #p-value для женщин, возраст 63-67"
   ]
  },
  {
   "cell_type": "code",
   "execution_count": 59,
   "id": "5030639e",
   "metadata": {},
   "outputs": [
    {
     "data": {
      "image/png": "[encoded data removed]",
      "text/plain": [
       "<Figure size 640x480 with 1 Axes>"
      ]
     },
     "metadata": {},
     "output_type": "display_data"
    }
   ],
   "source": [
    "kek=changed.groupby(['ragey_b'])['retired'].count()\n",
    "lol=work.groupby(['ragey_b'])['retired'].count()\n",
    "fig = plt.figure()\n",
    "ax = fig.add_subplot(111)\n",
    "ax.scatter(x=kek.index,y=kek)\n",
    "ax.scatter(x=lol.index,y=lol)\n",
    "\n",
    "plt.show()"
   ]
  },
  {
   "cell_type": "code",
   "execution_count": 60,
   "id": "4194e7a9",
   "metadata": {},
   "outputs": [
    {
     "data": {
      "text/plain": [
       "ragey_b\n",
       "35      27.0\n",
       "43     191.0\n",
       "44     230.0\n",
       "45     317.0\n",
       "46     349.0\n",
       "47     452.0\n",
       "48     532.0\n",
       "49     691.0\n",
       "62     845.0\n",
       "63     443.0\n",
       "64     107.0\n",
       "65     112.0\n",
       "66     350.0\n",
       "67     412.0\n",
       "68     508.0\n",
       "69     574.0\n",
       "70     528.0\n",
       "71     635.0\n",
       "72     594.0\n",
       "73     614.0\n",
       "74     523.0\n",
       "75     575.0\n",
       "76     433.0\n",
       "77     375.0\n",
       "78     358.0\n",
       "79     321.0\n",
       "80     253.0\n",
       "81     249.0\n",
       "82     165.0\n",
       "83     127.0\n",
       "84     112.0\n",
       "85      80.0\n",
       "86      65.0\n",
       "87      56.0\n",
       "88      42.0\n",
       "89      45.0\n",
       "90      29.0\n",
       "91      28.0\n",
       "92      26.0\n",
       "93       7.0\n",
       "94       1.0\n",
       "95       7.0\n",
       "96       3.0\n",
       "97       7.0\n",
       "98       2.0\n",
       "99       8.0\n",
       "100      2.0\n",
       "101      2.0\n",
       "103      0.0\n",
       "Name: retired, dtype: float64"
      ]
     },
     "execution_count": 60,
     "metadata": {},
     "output_type": "execute_result"
    }
   ],
   "source": [
    "omg=abs(kek-lol)\n",
    "omg=omg.dropna()\n",
    "omg[omg<=1000]"
   ]
  }
 ],
 "metadata": {
  "kernelspec": {
   "display_name": "Python 3 (ipykernel)",
   "language": "python",
   "name": "python3"
  },
  "language_info": {
   "codemirror_mode": {
    "name": "ipython",
    "version": 3
   },
   "file_extension": ".py",
   "mimetype": "text/x-python",
   "name": "python",
   "nbconvert_exporter": "python",
   "pygments_lexer": "ipython3",
   "version": "3.9.13"
  },
  "vscode": {
   "interpreter": {
    "hash": "6e9cb0b0363e5557a1226609ff9b96b146d65c059ad9577a7c3359000ec7d1ac"
   }
  }
 },
 "nbformat": 4,
 "nbformat_minor": 5
}
