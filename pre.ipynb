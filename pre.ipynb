{
 "cells": [
  {
   "cell_type": "code",
   "execution_count": null,
   "metadata": {},
   "outputs": [],
   "source": [
    "import csv\n",
    "import matplotlib.pyplot as plt\n",
    "from matplotlib.patches import Rectangle\n",
    "import numpy as np\n",
    "import pandas as pd"
   ]
  },
  {
   "cell_type": "code",
   "execution_count": null,
   "metadata": {},
   "outputs": [],
   "source": [
    "main = pd.read_csv('./Health-r.csv', low_memory=False)\n",
    "main.loc[(main.riearn != 0) & (main.ripena == 0), 'retired'] = 0\n",
    "main.loc[(main.riearn != 0) & (main.ripena != 0), 'retired'] = 0\n",
    "main.loc[(main.riearn == 0) & (main.ripena != 0), 'retired'] = 100"
   ]
  },
  {
   "cell_type": "code",
   "execution_count": null,
   "metadata": {},
   "outputs": [],
   "source": [
    "ids = list(main.hhidpn.unique())\n",
    "retired_rows = []\n",
    "preretired_rows = []\n",
    "\n",
    "for id in ids:\n",
    "    person_data = main[main.hhidpn == id]\n",
    "    ret = list(person_data.retired)\n",
    "    age = list(person_data.ragey_b)\n",
    "\n",
    "    if len(person_data.retired.unique()) != 2:\n",
    "        continue\n",
    "    \n",
    "    ind = ret.index(100)\n",
    "    retired_rows.append(person_data[person_data.index_wave == list(person_data.index_wave)[ind]])\n",
    "\n",
    "    if ind != 0:\n",
    "        preretired_rows.append(person_data[person_data.index_wave == list(person_data.index_wave)[ind - 1]])"
   ]
  },
  {
   "cell_type": "code",
   "execution_count": null,
   "metadata": {},
   "outputs": [],
   "source": [
    "main.loc[(main.riearn != 0) & (main.ripena == 0), 'retired'] = 0\n",
    "main.loc[(main.riearn != 0) & (main.ripena != 0), 'retired'] = 50\n",
    "main.loc[(main.riearn == 0) & (main.ripena != 0), 'retired'] = 100"
   ]
  },
  {
   "cell_type": "code",
   "execution_count": null,
   "metadata": {},
   "outputs": [],
   "source": [
    "changed = pd.concat(retired_rows, ignore_index=True)"
   ]
  },
  {
   "cell_type": "code",
   "execution_count": null,
   "metadata": {},
   "outputs": [],
   "source": [
    "missing_part = main[main.rhltc.isin(['.p', '.m', '.d', '.r'])]\n",
    "ids_to_drop = missing_part.hhidpn.unique()\n",
    "\n",
    "main = main.drop(main[main.hhidpn.isin(ids_to_drop)].index)\n",
    "main.rhltc = pd.to_numeric(main.rhltc)"
   ]
  },
  {
   "cell_type": "code",
   "execution_count": null,
   "metadata": {},
   "outputs": [],
   "source": [
    "missing_part = changed[changed.rhlthlm.isin(['.y', '.r', '.m', '.w', '.d'])]\n",
    "ids_to_drop = missing_part.hhidpn.unique()\n",
    "\n",
    "changed = changed.drop(changed[changed.hhidpn.isin(ids_to_drop)].index)\n",
    "changed.rhlthlm = pd.to_numeric(changed.rhlthlm)"
   ]
  },
  {
   "cell_type": "code",
   "execution_count": null,
   "metadata": {},
   "outputs": [],
   "source": [
    "missing_part = changed[changed.ragey_b.isin(['.r', '.d', '.m'])]\n",
    "ids_to_drop = missing_part.hhidpn.unique()\n",
    "\n",
    "changed = changed.drop(changed[changed.hhidpn.isin(ids_to_drop)].index)\n",
    "changed.ragey_b = pd.to_numeric(changed.ragey_b)"
   ]
  },
  {
   "cell_type": "code",
   "execution_count": null,
   "metadata": {},
   "outputs": [],
   "source": [
    "missing_part = changed[changed.rhosp.isin(['.r', '.d', '.m'])]\n",
    "ids_to_drop = missing_part.hhidpn.unique()\n",
    "\n",
    "tmp = changed.drop(changed[changed.hhidpn.isin(ids_to_drop)].index)\n",
    "tmp.rhosp = pd.to_numeric(tmp.rhosp)"
   ]
  },
  {
   "cell_type": "code",
   "execution_count": null,
   "metadata": {},
   "outputs": [],
   "source": [
    "all = set(changed.hhidpn)\n",
    "ok = set()\n",
    "per = 0"
   ]
  },
  {
   "cell_type": "code",
   "execution_count": null,
   "metadata": {},
   "outputs": [],
   "source": [
    "t = set(list(changed[changed.rhlthlm == 1].hhidpn.unique()))\n",
    "ok |= t\n",
    "print(len(t) / len(all) * 100, len(ok) / len(all) * 100)"
   ]
  },
  {
   "cell_type": "code",
   "execution_count": null,
   "metadata": {},
   "outputs": [],
   "source": [
    "t = set(list(tmp[tmp.rhosp == 1].hhidpn.unique()))\n",
    "ok |= t\n",
    "print(len(t) / len(all) * 100, len(ok) / len(all) * 100)"
   ]
  },
  {
   "cell_type": "code",
   "execution_count": null,
   "metadata": {},
   "outputs": [],
   "source": [
    "rate = set()\n",
    "\n",
    "prechanged = pd.concat(preretired_rows, ignore_index=True)\n",
    "ids = list(set(prechanged.hhidpn.unique()) & set(changed.hhidpn.unique()))\n",
    "\n",
    "for id in ids:\n",
    "    person_data = prechanged[prechanged.hhidpn == id]\n",
    "    ret = list(person_data.retired)\n",
    "    rhltc = list(person_data.rhltc)\n",
    "\n",
    "    if rhltc[0] in ['5']:\n",
    "        rate.add(id)"
   ]
  },
  {
   "cell_type": "code",
   "execution_count": null,
   "metadata": {},
   "outputs": [],
   "source": [
    "ok |= rate\n",
    "print(len(rate) / len(all) * 100, len(ok) / len(all) * 100)\n",
    "\n",
    "# 54.96306359853953"
   ]
  },
  {
   "cell_type": "code",
   "execution_count": null,
   "metadata": {},
   "outputs": [],
   "source": [
    "len(ok) / len(all)"
   ]
  },
  {
   "cell_type": "code",
   "execution_count": null,
   "metadata": {},
   "outputs": [],
   "source": [
    "res1 = [list(changed[changed.hhidpn == i].ragey_b)[0] for i in ok]\n",
    "res2 = [list(changed[changed.hhidpn == i].ragey_b)[0] for i in all]"
   ]
  },
  {
   "cell_type": "code",
   "execution_count": null,
   "metadata": {},
   "outputs": [],
   "source": [
    "plt.figure(facecolor='#FFFCF4')\n",
    "plt.axes().set_facecolor(\"#FFFCF4\")\n",
    "\n",
    "plt.hist(res2, color='#C4EDB3', edgecolor = \"black\")\n",
    "plt.hist(res1, color=\"#7b917b\", edgecolor = \"black\")\n",
    "plt.ylabel('Кол-во человек, вышедших на пенсию')\n",
    "plt.xlabel('Возраст выхода на пенсию')\n",
    "\n",
    "labels= [\"Необъясненные выходы на пенсию\",\"Объясненные выходы на пенсию\"]\n",
    "plt.legend(labels, prop={'size': 10}, bbox_to_anchor=(0.5,1.2))"
   ]
  },
  {
   "cell_type": "code",
   "execution_count": null,
   "metadata": {},
   "outputs": [],
   "source": [
    "age_ok = list(changed[changed.hhidpn.isin(ok)].ragey_b)\n",
    "age_all = list(changed[changed.hhidpn.isin(all)].ragey_b)"
   ]
  },
  {
   "cell_type": "code",
   "execution_count": null,
   "metadata": {},
   "outputs": [],
   "source": [
    "xages = list(set(age_all))\n",
    "sages = []\n",
    "\n",
    "bars_step = 3\n",
    "bars = []\n",
    "\n",
    "for i in range(43, 94, bars_step):\n",
    "    t1 = 0\n",
    "    t2 = 0\n",
    "\n",
    "    for j in range(i, i + bars_step):\n",
    "        t1 += age_ok.count(i)\n",
    "        t2 += age_all.count(i)\n",
    "\n",
    "    if t2 != 0:\n",
    "        sages.append(t1 / t2)\n",
    "    else:\n",
    "        sages.append(1)\n",
    "\n",
    "    bars.append(i)\n",
    "\n",
    "aages = [1 - i for i in sages]"
   ]
  },
  {
   "cell_type": "code",
   "execution_count": null,
   "metadata": {},
   "outputs": [],
   "source": [
    "sages = np.array(sages)\n",
    "aages = np.array(aages)"
   ]
  },
  {
   "cell_type": "code",
   "execution_count": null,
   "metadata": {},
   "outputs": [],
   "source": [
    "plt.figure(facecolor='#FFFCF4')\n",
    "plt.axes().set_facecolor(\"#FFFCF4\")\n",
    "plt.fill_between(bars, [1 for i in range(len(bars))], step=\"pre\", alpha=1, color='#C4EDB3')\n",
    "plt.fill_between(bars, sages, step=\"pre\", alpha=1, color=\"#7b917b\")\n",
    "\n",
    "plt.ylabel('Процент человек, вышедших на пенсию')\n",
    "plt.xlabel('Возраст выхода на пенсию')\n",
    "\n",
    "labels= [\"Вышедшие на пенсию\",\"Объясненные выходы на пенсию\"]\n",
    "plt.legend(labels, prop={'size': 10}, bbox_to_anchor=(0.5,1.2))\n"
   ]
  },
  {
   "cell_type": "code",
   "execution_count": null,
   "metadata": {},
   "outputs": [],
   "source": [
    "plt.figure(facecolor='#FFFCF4')\n",
    "plt.axes().set_facecolor(\"#FFFCF4\")\n",
    "plt.bar(bars, aages, bottom=sages, width=2, color='#C4EDB3', edgecolor = \"black\")\n",
    "plt.bar(bars, sages, width=2, color=\"#7b917b\", edgecolor = \"black\")\n",
    "\n",
    "plt.ylabel('Процент человек, вышедших на пенсию')\n",
    "plt.xlabel('Возраст выхода на пенсию')\n",
    "\n",
    "plt.xticks(np.arange(min(bars), max(bars)+1, 6))\n",
    "\n",
    "labels= [\"Необъясненные выходы на пенсию\", \"Объясненные выходы на пенсию\"]\n",
    "plt.legend(labels, prop={'size': 10}, bbox_to_anchor=(0.5,1.2))"
   ]
  },
  {
   "cell_type": "code",
   "execution_count": null,
   "metadata": {},
   "outputs": [],
   "source": []
  },
  {
   "cell_type": "code",
   "execution_count": null,
   "metadata": {},
   "outputs": [],
   "source": [
    "main = pd.read_csv('./Health-r.csv', low_memory=False)\n",
    "main = main.drop(main[main.hhidpn.isin(ok)].index)\n",
    "main.to_csv('./Health-unp.csv')"
   ]
  },
  {
   "cell_type": "code",
   "execution_count": null,
   "metadata": {},
   "outputs": [],
   "source": []
  }
 ],
 "metadata": {
  "kernelspec": {
   "display_name": "Python 3",
   "language": "python",
   "name": "python3"
  },
  "language_info": {
   "codemirror_mode": {
    "name": "ipython",
    "version": 3
   },
   "file_extension": ".py",
   "mimetype": "text/x-python",
   "name": "python",
   "nbconvert_exporter": "python",
   "pygments_lexer": "ipython3",
   "version": "3.10.9 (tags/v3.10.9:1dd9be6, Dec  6 2022, 20:01:21) [MSC v.1934 64 bit (AMD64)]"
  },
  "orig_nbformat": 4,
  "vscode": {
   "interpreter": {
    "hash": "6e9cb0b0363e5557a1226609ff9b96b146d65c059ad9577a7c3359000ec7d1ac"
   }
  }
 },
 "nbformat": 4,
 "nbformat_minor": 2
}
