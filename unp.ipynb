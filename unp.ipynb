{
 "cells": [
  {
   "cell_type": "code",
   "execution_count": null,
   "metadata": {},
   "outputs": [],
   "source": [
    "import csv\n",
    "import matplotlib.pyplot as plt\n",
    "import numpy as np\n",
    "import pandas as pd"
   ]
  },
  {
   "cell_type": "code",
   "execution_count": null,
   "metadata": {},
   "outputs": [],
   "source": [
    "main = pd.read_csv('./Health.csv', low_memory=False)\n",
    "main = main.sort_values(by=['index_wave'])"
   ]
  },
  {
   "cell_type": "code",
   "execution_count": null,
   "metadata": {},
   "outputs": [],
   "source": [
    "missing_part = main[main.ragey_b.isin(['.p', '.m', '.d', '.r'])]\n",
    "ids_to_drop = missing_part.hhidpn.unique()\n",
    "\n",
    "main = main.drop(main[main.hhidpn.isin(ids_to_drop)].index)\n",
    "main.ragey_b = pd.to_numeric(main.ragey_b)"
   ]
  },
  {
   "cell_type": "code",
   "execution_count": null,
   "metadata": {},
   "outputs": [],
   "source": [
    "Q1 = main.ragey_b.quantile(0.25)\n",
    "Q3 = main.ragey_b.quantile(0.75)\n",
    "IQR = Q3 - Q1\n",
    "to_del = set(main[(main.ragey_b < 42 ) | (main.ragey_b > Q3+1.5*IQR)].hhidpn.unique())"
   ]
  },
  {
   "cell_type": "code",
   "execution_count": null,
   "metadata": {},
   "outputs": [],
   "source": [
    "main = main.drop(main[main.hhidpn.isin(to_del)].index)"
   ]
  },
  {
   "cell_type": "code",
   "execution_count": null,
   "metadata": {},
   "outputs": [],
   "source": [
    "main.loc[(main.riearn != 0) & (main.ripena == 0), 'retired'] = 0\n",
    "main.loc[(main.riearn != 0) & (main.ripena != 0), 'retired'] = 50\n",
    "main.loc[(main.riearn == 0) & (main.ripena != 0), 'retired'] = 100"
   ]
  },
  {
   "cell_type": "code",
   "execution_count": null,
   "metadata": {},
   "outputs": [],
   "source": [
    "main.retired.hist()"
   ]
  },
  {
   "cell_type": "code",
   "execution_count": null,
   "metadata": {},
   "outputs": [],
   "source": [
    "print(len(main[main.retired == 0].hhidpn.unique()), len(main[main.retired == 50].hhidpn.unique()), len(main[main.retired == 100].hhidpn.unique()))"
   ]
  },
  {
   "cell_type": "code",
   "execution_count": null,
   "metadata": {},
   "outputs": [],
   "source": [
    "main.to_csv(\"./Health-r.csv\")"
   ]
  },
  {
   "cell_type": "code",
   "execution_count": null,
   "metadata": {},
   "outputs": [],
   "source": [
    "w = main[main.retired == 0]\n",
    "wr = main[main.retired == 50]\n",
    "r = main[main.retired == 100]"
   ]
  },
  {
   "cell_type": "code",
   "execution_count": null,
   "metadata": {},
   "outputs": [],
   "source": [
    "id1 = set(w.hhidpn.unique())\n",
    "id2 = set(wr.hhidpn.unique())\n",
    "id3 = set(r.hhidpn.unique())"
   ]
  },
  {
   "cell_type": "code",
   "execution_count": null,
   "metadata": {},
   "outputs": [],
   "source": [
    "onw = id1 - id2 - id3\n",
    "onr = id3 - id1 - id2\n",
    "oth = (id1 | id2 | id3) - onw - onr\n"
   ]
  },
  {
   "cell_type": "code",
   "execution_count": null,
   "metadata": {},
   "outputs": [],
   "source": [
    "main[main.hhidpn.isin(onw)].to_csv(\"./Health-onw.csv\")\n",
    "main[main.hhidpn.isin(onr)].to_csv(\"./Health-onr.csv\")\n",
    "main[main.hhidpn.isin(oth)].to_csv(\"./Health-oth.csv\")"
   ]
  },
  {
   "cell_type": "code",
   "execution_count": null,
   "metadata": {},
   "outputs": [],
   "source": [
    "wtor = (id1 & id3) - id2"
   ]
  },
  {
   "cell_type": "code",
   "execution_count": null,
   "metadata": {},
   "outputs": [],
   "source": [
    "t = main[main.hhidpn.isin(wtor)]"
   ]
  },
  {
   "cell_type": "code",
   "execution_count": null,
   "metadata": {},
   "outputs": [],
   "source": [
    "ids = list(t.hhidpn.unique())\n",
    "wtor = set()\n",
    "\n",
    "for id in ids:\n",
    "    person_data = main[main.hhidpn == id]\n",
    "    ret = list(person_data.retired)\n",
    "\n",
    "    if ret[0] == 0:\n",
    "        wtor.add(id)"
   ]
  },
  {
   "cell_type": "code",
   "execution_count": null,
   "metadata": {},
   "outputs": [],
   "source": [
    "main[main.hhidpn.isin(wtor)].to_csv(\"./Health-wtor.csv\")"
   ]
  },
  {
   "cell_type": "code",
   "execution_count": null,
   "metadata": {},
   "outputs": [],
   "source": [
    "len(wtor)"
   ]
  },
  {
   "cell_type": "code",
   "execution_count": null,
   "metadata": {},
   "outputs": [],
   "source": [
    "onwr = (id1 | id2) - id3\n",
    "main[main.hhidpn.isin(onwr)].to_csv(\"./Health-onwr.csv\")"
   ]
  },
  {
   "cell_type": "code",
   "execution_count": null,
   "metadata": {},
   "outputs": [],
   "source": []
  }
 ],
 "metadata": {
  "kernelspec": {
   "display_name": "Python 3",
   "language": "python",
   "name": "python3"
  },
  "language_info": {
   "codemirror_mode": {
    "name": "ipython",
    "version": 3
   },
   "file_extension": ".py",
   "mimetype": "text/x-python",
   "name": "python",
   "nbconvert_exporter": "python",
   "pygments_lexer": "ipython3",
   "version": "3.10.9 (tags/v3.10.9:1dd9be6, Dec  6 2022, 20:01:21) [MSC v.1934 64 bit (AMD64)]"
  },
  "orig_nbformat": 4,
  "vscode": {
   "interpreter": {
    "hash": "6e9cb0b0363e5557a1226609ff9b96b146d65c059ad9577a7c3359000ec7d1ac"
   }
  }
 },
 "nbformat": 4,
 "nbformat_minor": 2
}
